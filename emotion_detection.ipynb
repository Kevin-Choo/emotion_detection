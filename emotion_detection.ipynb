{
  "nbformat": 4,
  "nbformat_minor": 0,
  "metadata": {
    "colab": {
      "provenance": []
    },
    "kernelspec": {
      "name": "python3",
      "display_name": "Python 3"
    },
    "language_info": {
      "name": "python"
    }
  },
  "cells": [
    {
      "cell_type": "code",
      "source": [
        "!pip install nrclex"
      ],
      "metadata": {
        "colab": {
          "base_uri": "https://localhost:8080/"
        },
        "id": "wnCAIwGN5UE8",
        "outputId": "f2315a9a-008b-45f0-cb71-73ff310bfbce"
      },
      "execution_count": 2,
      "outputs": [
        {
          "output_type": "stream",
          "name": "stdout",
          "text": [
            "Looking in indexes: https://pypi.org/simple, https://us-python.pkg.dev/colab-wheels/public/simple/\n",
            "Collecting nrclex\n",
            "  Downloading NRCLex-4.0-py3-none-any.whl (4.4 kB)\n",
            "  Downloading NRCLex-3.0.0.tar.gz (396 kB)\n",
            "\u001b[2K     \u001b[90m━━━━━━━━━━━━━━━━━━━━━━━━━━━━━━━━━━━━━━━\u001b[0m \u001b[32m396.4/396.4 KB\u001b[0m \u001b[31m8.2 MB/s\u001b[0m eta \u001b[36m0:00:00\u001b[0m\n",
            "\u001b[?25h  Preparing metadata (setup.py) ... \u001b[?25l\u001b[?25hdone\n",
            "Requirement already satisfied: textblob in /usr/local/lib/python3.8/dist-packages (from nrclex) (0.15.3)\n",
            "Requirement already satisfied: nltk>=3.1 in /usr/local/lib/python3.8/dist-packages (from textblob->nrclex) (3.7)\n",
            "Requirement already satisfied: click in /usr/local/lib/python3.8/dist-packages (from nltk>=3.1->textblob->nrclex) (7.1.2)\n",
            "Requirement already satisfied: joblib in /usr/local/lib/python3.8/dist-packages (from nltk>=3.1->textblob->nrclex) (1.2.0)\n",
            "Requirement already satisfied: regex>=2021.8.3 in /usr/local/lib/python3.8/dist-packages (from nltk>=3.1->textblob->nrclex) (2022.6.2)\n",
            "Requirement already satisfied: tqdm in /usr/local/lib/python3.8/dist-packages (from nltk>=3.1->textblob->nrclex) (4.64.1)\n",
            "Building wheels for collected packages: nrclex\n",
            "  Building wheel for nrclex (setup.py) ... \u001b[?25l\u001b[?25hdone\n",
            "  Created wheel for nrclex: filename=NRCLex-3.0.0-py3-none-any.whl size=43329 sha256=bf26b7964eee1dbe4b2799786040b894e14d45943901f9ffd85180ea43c55464\n",
            "  Stored in directory: /root/.cache/pip/wheels/83/95/c0/42b43fb15eb48e4f5a67cba8915540cb2783591c59c037a9e5\n",
            "Successfully built nrclex\n",
            "Installing collected packages: nrclex\n",
            "Successfully installed nrclex-3.0.0\n"
          ]
        }
      ]
    },
    {
      "cell_type": "code",
      "execution_count": 3,
      "metadata": {
        "id": "4B74gsJ50_Jg"
      },
      "outputs": [],
      "source": [
        "# Import dependencies\n",
        "from nrclex import NRCLex\n",
        "import pandas as pd\n",
        "import numpy as np\n",
        "import nltk"
      ]
    },
    {
      "cell_type": "code",
      "source": [
        "# Download sentence tokenizer\n",
        "nltk.download('punkt')"
      ],
      "metadata": {
        "colab": {
          "base_uri": "https://localhost:8080/"
        },
        "id": "79VREUyf6e8o",
        "outputId": "c336a8f3-d427-47fe-a218-3c2b9876ba28"
      },
      "execution_count": 4,
      "outputs": [
        {
          "output_type": "stream",
          "name": "stderr",
          "text": [
            "[nltk_data] Downloading package punkt to /root/nltk_data...\n",
            "[nltk_data]   Unzipping tokenizers/punkt.zip.\n"
          ]
        },
        {
          "output_type": "execute_result",
          "data": {
            "text/plain": [
              "True"
            ]
          },
          "metadata": {},
          "execution_count": 4
        }
      ]
    },
    {
      "cell_type": "code",
      "source": [
        "# Create a sample sentence\n",
        "text = \"I love char siew fried rice!\"\n",
        "\n",
        "# Create emotion model\n",
        "emotion = NRCLex(text)\n",
        "\n",
        "# Now we classify the sentence\n",
        "print(\"\\n\", emotion.words)\n",
        "print(\"\\n\", emotion.affect_dict)"
      ],
      "metadata": {
        "colab": {
          "base_uri": "https://localhost:8080/"
        },
        "id": "tcmqqL6g4Khn",
        "outputId": "58017da7-cee6-4971-a02c-73d530b2eb0b"
      },
      "execution_count": 5,
      "outputs": [
        {
          "output_type": "stream",
          "name": "stdout",
          "text": [
            "\n",
            " ['I', 'love', 'char', 'siew', 'fried', 'rice']\n",
            "\n",
            " {'love': ['joy', 'positive']}\n"
          ]
        }
      ]
    },
    {
      "cell_type": "code",
      "source": [
        "# Let's get some speech from some famous people\n",
        "martin = \"I have a dream that my four little children will one day live in a nation where they will not be judged by the color of their skin but by the content of their character.\"\n",
        "ellie = \"Did you know, diarrhea is heriditary? It runs in the jeans.\"\n",
        "sundar = \"I have some difficult news to share. We’ve decided to reduce our workforce by approximately 12,000 roles. We’ve already sent a separate email to employees in the US who are affected. In other countries, this process will take longer due to local laws and practices.\""
      ],
      "metadata": {
        "id": "psmZkWaI4LsP"
      },
      "execution_count": 6,
      "outputs": []
    },
    {
      "cell_type": "code",
      "source": [
        "# Emotion for Dr. King\n",
        "king_emotion = NRCLex(martin)\n",
        "print(\"\\n\", king_emotion.words)\n",
        "print(\"\\n\", king_emotion.affect_dict)"
      ],
      "metadata": {
        "colab": {
          "base_uri": "https://localhost:8080/"
        },
        "id": "pd3Cp4054LvX",
        "outputId": "bcb1c3a0-bc35-4336-d4ee-e94fd7bf8b7d"
      },
      "execution_count": 7,
      "outputs": [
        {
          "output_type": "stream",
          "name": "stdout",
          "text": [
            "\n",
            " ['I', 'have', 'a', 'dream', 'that', 'my', 'four', 'little', 'children', 'will', 'one', 'day', 'live', 'in', 'a', 'nation', 'where', 'they', 'will', 'not', 'be', 'judged', 'by', 'the', 'color', 'of', 'their', 'skin', 'but', 'by', 'the', 'content', 'of', 'their', 'character']\n",
            "\n",
            " {'nation': ['trust'], 'content': ['joy', 'positive', 'trust']}\n"
          ]
        }
      ]
    },
    {
      "cell_type": "code",
      "source": [
        "# Emotion for Ellie\n",
        "ellie_emotion = NRCLex(ellie)\n",
        "print(\"\\n\", ellie_emotion.words)\n",
        "print(\"\\n\", ellie_emotion.affect_dict)"
      ],
      "metadata": {
        "colab": {
          "base_uri": "https://localhost:8080/"
        },
        "id": "0BmzIbBF4LyY",
        "outputId": "279a3fca-cd29-43af-e3cd-b19bb7a6a718"
      },
      "execution_count": 8,
      "outputs": [
        {
          "output_type": "stream",
          "name": "stdout",
          "text": [
            "\n",
            " ['Did', 'you', 'know', 'diarrhea', 'is', 'heriditary', 'It', 'runs', 'in', 'the', 'jeans']\n",
            "\n",
            " {}\n"
          ]
        }
      ]
    },
    {
      "cell_type": "code",
      "source": [
        "# Emotion for Sundar\n",
        "sundar_emotion = NRCLex(sundar)\n",
        "print(\"\\n\", sundar_emotion.words)\n",
        "print(\"\\n\", sundar_emotion.affect_dict)"
      ],
      "metadata": {
        "colab": {
          "base_uri": "https://localhost:8080/"
        },
        "id": "PYaZ5oyr4L1P",
        "outputId": "46b8ec77-ac4a-4b27-8790-5608a3a3f9d0"
      },
      "execution_count": 9,
      "outputs": [
        {
          "output_type": "stream",
          "name": "stdout",
          "text": [
            "\n",
            " ['I', 'have', 'some', 'difficult', 'news', 'to', 'share', 'We', '’', 've', 'decided', 'to', 'reduce', 'our', 'workforce', 'by', 'approximately', '12,000', 'roles', 'We', '’', 've', 'already', 'sent', 'a', 'separate', 'email', 'to', 'employees', 'in', 'the', 'US', 'who', 'are', 'affected', 'In', 'other', 'countries', 'this', 'process', 'will', 'take', 'longer', 'due', 'to', 'local', 'laws', 'and', 'practices']\n",
            "\n",
            " {'difficult': ['fear'], 'share': ['anticipation', 'joy', 'positive', 'trust']}\n"
          ]
        }
      ]
    },
    {
      "cell_type": "code",
      "source": [
        "# Positive for Dr. King, neutral for Ellie because that was meant to be a joke, and then mixture of positive and negative for Sundar."
      ],
      "metadata": {
        "id": "fxHDvDmP4L4H"
      },
      "execution_count": 10,
      "outputs": []
    },
    {
      "cell_type": "code",
      "source": [
        "# Let's see the top emotion from the speeches\n",
        "print(\"\\n\", king_emotion.top_emotions)\n",
        "print(\"\\n\", ellie_emotion.top_emotions)\n",
        "print(\"\\n\", sundar_emotion.top_emotions)"
      ],
      "metadata": {
        "id": "UfbND11C4L7H",
        "colab": {
          "base_uri": "https://localhost:8080/"
        },
        "outputId": "2d33ea6f-d670-4a67-de2a-7bc993d57a49"
      },
      "execution_count": 11,
      "outputs": [
        {
          "output_type": "stream",
          "name": "stdout",
          "text": [
            "\n",
            " [('trust', 0.5)]\n",
            "\n",
            " [('fear', 0.0), ('anger', 0.0), ('anticip', 0.0), ('trust', 0.0), ('surprise', 0.0), ('positive', 0.0), ('negative', 0.0), ('sadness', 0.0), ('disgust', 0.0), ('joy', 0.0)]\n",
            "\n",
            " [('fear', 0.2), ('trust', 0.2), ('positive', 0.2), ('joy', 0.2), ('anticipation', 0.2)]\n"
          ]
        }
      ]
    },
    {
      "cell_type": "code",
      "source": [
        "# Now let's see the raw emotion scores\n",
        "print(\"\\n\", king_emotion.raw_emotion_scores)\n",
        "print(\"\\n\", ellie_emotion.raw_emotion_scores)\n",
        "print(\"\\n\", sundar_emotion.raw_emotion_scores)"
      ],
      "metadata": {
        "colab": {
          "base_uri": "https://localhost:8080/"
        },
        "id": "tf24Qz-MKGRb",
        "outputId": "12e2f248-7fb3-4dcf-c429-4b1b68818a54"
      },
      "execution_count": 12,
      "outputs": [
        {
          "output_type": "stream",
          "name": "stdout",
          "text": [
            "\n",
            " {'trust': 2, 'joy': 1, 'positive': 1}\n",
            "\n",
            " {}\n",
            "\n",
            " {'fear': 1, 'anticipation': 1, 'joy': 1, 'positive': 1, 'trust': 1}\n"
          ]
        }
      ]
    },
    {
      "cell_type": "code",
      "source": [
        "# Now for the emotion score frequency which is standardization from raw emotion scores\n",
        "print(\"\\n\", king_emotion.affect_frequencies)\n",
        "print(\"\\n\", ellie_emotion.affect_frequencies)\n",
        "print(\"\\n\", sundar_emotion.affect_frequencies)"
      ],
      "metadata": {
        "colab": {
          "base_uri": "https://localhost:8080/"
        },
        "id": "OpUD11oKK4Tu",
        "outputId": "512af17e-8185-41c4-a6f6-a16793059579"
      },
      "execution_count": 13,
      "outputs": [
        {
          "output_type": "stream",
          "name": "stdout",
          "text": [
            "\n",
            " {'fear': 0.0, 'anger': 0.0, 'anticip': 0.0, 'trust': 0.5, 'surprise': 0.0, 'positive': 0.25, 'negative': 0.0, 'sadness': 0.0, 'disgust': 0.0, 'joy': 0.25}\n",
            "\n",
            " {'fear': 0.0, 'anger': 0.0, 'anticip': 0.0, 'trust': 0.0, 'surprise': 0.0, 'positive': 0.0, 'negative': 0.0, 'sadness': 0.0, 'disgust': 0.0, 'joy': 0.0}\n",
            "\n",
            " {'fear': 0.2, 'anger': 0.0, 'anticip': 0.0, 'trust': 0.2, 'surprise': 0.0, 'positive': 0.2, 'negative': 0.0, 'sadness': 0.0, 'disgust': 0.0, 'joy': 0.2, 'anticipation': 0.2}\n"
          ]
        }
      ]
    },
    {
      "cell_type": "code",
      "source": [],
      "metadata": {
        "id": "PqNUAhkJLrGl"
      },
      "execution_count": null,
      "outputs": []
    }
  ]
}